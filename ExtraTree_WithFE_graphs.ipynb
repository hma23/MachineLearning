{
  "nbformat": 4,
  "nbformat_minor": 0,
  "metadata": {
    "colab": {
      "name": "ExtraTree_WithFE_graphs.ipynb",
      "provenance": [],
      "collapsed_sections": [
        "qoSSXm7bPja0",
        "C3ovvU9tN_KO"
      ],
      "include_colab_link": true
    },
    "kernelspec": {
      "name": "python3",
      "display_name": "Python 3"
    },
    "language_info": {
      "name": "python"
    }
  },
  "cells": [
    {
      "cell_type": "markdown",
      "metadata": {
        "id": "view-in-github",
        "colab_type": "text"
      },
      "source": [
        "<a href=\"https://colab.research.google.com/github/hma23/MachineLearning/blob/main/ExtraTree_WithFE_graphs.ipynb\" target=\"_parent\"><img src=\"https://colab.research.google.com/assets/colab-badge.svg\" alt=\"Open In Colab\"/></a>"
      ]
    },
    {
      "cell_type": "code",
      "execution_count": 1,
      "metadata": {
        "id": "3x5EA9gOl5fl"
      },
      "outputs": [],
      "source": [
        "import pandas as pd\n",
        "import numpy as np\n",
        "import seaborn as sns\n",
        "from sklearn.model_selection import train_test_split\n",
        "from sklearn.linear_model import LinearRegression\n",
        "from sklearn.metrics import r2_score"
      ]
    },
    {
      "cell_type": "code",
      "source": [
        "#To know sklearn version\n",
        "import sklearn\n",
        "sklearn_version = sklearn.__version__\n",
        "\n",
        "print(sklearn_version)"
      ],
      "metadata": {
        "colab": {
          "base_uri": "https://localhost:8080/"
        },
        "id": "KmbOdkd-jJOp",
        "outputId": "23da4a3f-c45c-4c43-8b1e-131d0c87aa61"
      },
      "execution_count": 2,
      "outputs": [
        {
          "output_type": "stream",
          "name": "stdout",
          "text": [
            "0.23.2\n"
          ]
        }
      ]
    },
    {
      "cell_type": "code",
      "source": [
        "#To show all records for our data frame\n",
        "pd.set_option(\"display.min_rows\", 200)\n",
        "pd.set_option(\"display.max_rows\", 500)\n",
        "pd.get_option(\"display.max_rows\")"
      ],
      "metadata": {
        "colab": {
          "base_uri": "https://localhost:8080/"
        },
        "id": "54L_PuJzoP34",
        "outputId": "faa0c9b9-1932-41a1-ffcb-6eb6821284d6"
      },
      "execution_count": 3,
      "outputs": [
        {
          "output_type": "execute_result",
          "data": {
            "text/plain": [
              "500"
            ]
          },
          "metadata": {},
          "execution_count": 3
        }
      ]
    },
    {
      "cell_type": "code",
      "source": [
        "from google.colab import drive\n",
        "drive.mount('/content/drive')"
      ],
      "metadata": {
        "colab": {
          "base_uri": "https://localhost:8080/"
        },
        "id": "_j4rI5RQmhqD",
        "outputId": "4cb3a9dd-c2d4-49ca-f26e-7462e61d8312"
      },
      "execution_count": 4,
      "outputs": [
        {
          "output_type": "stream",
          "name": "stdout",
          "text": [
            "Drive already mounted at /content/drive; to attempt to forcibly remount, call drive.mount(\"/content/drive\", force_remount=True).\n"
          ]
        }
      ]
    },
    {
      "cell_type": "markdown",
      "source": [
        "# Box Output Prdiction"
      ],
      "metadata": {
        "id": "SwszlFcHSNyq"
      }
    },
    {
      "cell_type": "code",
      "source": [
        "# df = pd.read_excel('/content/drive/MyDrive/data/Book1_new.xlsx')\n",
        "df = pd.read_excel('/content/drive/MyDrive/data/CPU_Book1_new.xlsx')\n",
        "#uncomment next line to show all values\n",
        "df.head(50)"
      ],
      "metadata": {
        "id": "4DXWrO5Mmhso",
        "colab": {
          "base_uri": "https://localhost:8080/",
          "height": 1000
        },
        "outputId": "cfda11bb-6689-4d4e-817e-7ad2d2b77624"
      },
      "execution_count": 5,
      "outputs": [
        {
          "output_type": "execute_result",
          "data": {
            "text/html": [
              "\n",
              "  <div id=\"df-6f68e1de-e407-4007-903f-2d0e860da17d\">\n",
              "    <div class=\"colab-df-container\">\n",
              "      <div>\n",
              "<style scoped>\n",
              "    .dataframe tbody tr th:only-of-type {\n",
              "        vertical-align: middle;\n",
              "    }\n",
              "\n",
              "    .dataframe tbody tr th {\n",
              "        vertical-align: top;\n",
              "    }\n",
              "\n",
              "    .dataframe thead th {\n",
              "        text-align: right;\n",
              "    }\n",
              "</style>\n",
              "<table border=\"1\" class=\"dataframe\">\n",
              "  <thead>\n",
              "    <tr style=\"text-align: right;\">\n",
              "      <th></th>\n",
              "      <th>Block_period</th>\n",
              "      <th>Block_size</th>\n",
              "      <th>Intensity</th>\n",
              "      <th>box_output</th>\n",
              "      <th>Latency</th>\n",
              "      <th>mac_type</th>\n",
              "      <th>Number_of_peers</th>\n",
              "      <th>Ratio of Number of miners to bandwidth</th>\n",
              "    </tr>\n",
              "  </thead>\n",
              "  <tbody>\n",
              "    <tr>\n",
              "      <th>0</th>\n",
              "      <td>1</td>\n",
              "      <td>13</td>\n",
              "      <td>High</td>\n",
              "      <td>89</td>\n",
              "      <td>71.048000</td>\n",
              "      <td>m1.medium</td>\n",
              "      <td>1</td>\n",
              "      <td>0.001</td>\n",
              "    </tr>\n",
              "    <tr>\n",
              "      <th>1</th>\n",
              "      <td>2</td>\n",
              "      <td>13</td>\n",
              "      <td>High</td>\n",
              "      <td>43</td>\n",
              "      <td>146.048000</td>\n",
              "      <td>m1.medium</td>\n",
              "      <td>2</td>\n",
              "      <td>0.002</td>\n",
              "    </tr>\n",
              "    <tr>\n",
              "      <th>2</th>\n",
              "      <td>3</td>\n",
              "      <td>13</td>\n",
              "      <td>High</td>\n",
              "      <td>28</td>\n",
              "      <td>218.549000</td>\n",
              "      <td>m1.medium</td>\n",
              "      <td>4</td>\n",
              "      <td>0.004</td>\n",
              "    </tr>\n",
              "    <tr>\n",
              "      <th>3</th>\n",
              "      <td>4</td>\n",
              "      <td>13</td>\n",
              "      <td>High</td>\n",
              "      <td>20</td>\n",
              "      <td>291.848000</td>\n",
              "      <td>m1.medium</td>\n",
              "      <td>8</td>\n",
              "      <td>0.008</td>\n",
              "    </tr>\n",
              "    <tr>\n",
              "      <th>4</th>\n",
              "      <td>5</td>\n",
              "      <td>13</td>\n",
              "      <td>High</td>\n",
              "      <td>17</td>\n",
              "      <td>365.552000</td>\n",
              "      <td>m1.medium</td>\n",
              "      <td>16</td>\n",
              "      <td>0.016</td>\n",
              "    </tr>\n",
              "    <tr>\n",
              "      <th>5</th>\n",
              "      <td>6</td>\n",
              "      <td>13</td>\n",
              "      <td>High</td>\n",
              "      <td>14</td>\n",
              "      <td>437.861000</td>\n",
              "      <td>m1.medium</td>\n",
              "      <td>16</td>\n",
              "      <td>0.016</td>\n",
              "    </tr>\n",
              "    <tr>\n",
              "      <th>6</th>\n",
              "      <td>7</td>\n",
              "      <td>13</td>\n",
              "      <td>High</td>\n",
              "      <td>12</td>\n",
              "      <td>512.076000</td>\n",
              "      <td>m1.medium</td>\n",
              "      <td>3</td>\n",
              "      <td>0.003</td>\n",
              "    </tr>\n",
              "    <tr>\n",
              "      <th>7</th>\n",
              "      <td>8</td>\n",
              "      <td>13</td>\n",
              "      <td>High</td>\n",
              "      <td>11</td>\n",
              "      <td>586.079000</td>\n",
              "      <td>m1.medium</td>\n",
              "      <td>3</td>\n",
              "      <td>0.003</td>\n",
              "    </tr>\n",
              "    <tr>\n",
              "      <th>8</th>\n",
              "      <td>9</td>\n",
              "      <td>13</td>\n",
              "      <td>High</td>\n",
              "      <td>10</td>\n",
              "      <td>659.079000</td>\n",
              "      <td>m1.medium</td>\n",
              "      <td>3</td>\n",
              "      <td>0.003</td>\n",
              "    </tr>\n",
              "    <tr>\n",
              "      <th>9</th>\n",
              "      <td>10</td>\n",
              "      <td>13</td>\n",
              "      <td>High</td>\n",
              "      <td>9</td>\n",
              "      <td>731.070000</td>\n",
              "      <td>m1.medium</td>\n",
              "      <td>3</td>\n",
              "      <td>0.003</td>\n",
              "    </tr>\n",
              "    <tr>\n",
              "      <th>10</th>\n",
              "      <td>11</td>\n",
              "      <td>13</td>\n",
              "      <td>High</td>\n",
              "      <td>8</td>\n",
              "      <td>803.873000</td>\n",
              "      <td>m1.medium</td>\n",
              "      <td>3</td>\n",
              "      <td>0.003</td>\n",
              "    </tr>\n",
              "    <tr>\n",
              "      <th>11</th>\n",
              "      <td>12</td>\n",
              "      <td>13</td>\n",
              "      <td>High</td>\n",
              "      <td>7</td>\n",
              "      <td>877.102000</td>\n",
              "      <td>m1.medium</td>\n",
              "      <td>3</td>\n",
              "      <td>0.003</td>\n",
              "    </tr>\n",
              "    <tr>\n",
              "      <th>12</th>\n",
              "      <td>13</td>\n",
              "      <td>13</td>\n",
              "      <td>High</td>\n",
              "      <td>7</td>\n",
              "      <td>950.309000</td>\n",
              "      <td>m1.medium</td>\n",
              "      <td>3</td>\n",
              "      <td>0.003</td>\n",
              "    </tr>\n",
              "    <tr>\n",
              "      <th>13</th>\n",
              "      <td>14</td>\n",
              "      <td>13</td>\n",
              "      <td>High</td>\n",
              "      <td>6</td>\n",
              "      <td>1024.093000</td>\n",
              "      <td>m1.medium</td>\n",
              "      <td>2</td>\n",
              "      <td>0.002</td>\n",
              "    </tr>\n",
              "    <tr>\n",
              "      <th>14</th>\n",
              "      <td>1</td>\n",
              "      <td>8</td>\n",
              "      <td>High</td>\n",
              "      <td>54</td>\n",
              "      <td>122.100000</td>\n",
              "      <td>m1.large</td>\n",
              "      <td>3</td>\n",
              "      <td>0.003</td>\n",
              "    </tr>\n",
              "    <tr>\n",
              "      <th>15</th>\n",
              "      <td>2</td>\n",
              "      <td>8</td>\n",
              "      <td>High</td>\n",
              "      <td>26</td>\n",
              "      <td>252.600000</td>\n",
              "      <td>m1.large</td>\n",
              "      <td>3</td>\n",
              "      <td>0.003</td>\n",
              "    </tr>\n",
              "    <tr>\n",
              "      <th>16</th>\n",
              "      <td>3</td>\n",
              "      <td>8</td>\n",
              "      <td>High</td>\n",
              "      <td>18</td>\n",
              "      <td>364.900000</td>\n",
              "      <td>m1.large</td>\n",
              "      <td>3</td>\n",
              "      <td>0.003</td>\n",
              "    </tr>\n",
              "    <tr>\n",
              "      <th>17</th>\n",
              "      <td>4</td>\n",
              "      <td>8</td>\n",
              "      <td>High</td>\n",
              "      <td>13</td>\n",
              "      <td>470.100000</td>\n",
              "      <td>m1.large</td>\n",
              "      <td>3</td>\n",
              "      <td>0.003</td>\n",
              "    </tr>\n",
              "    <tr>\n",
              "      <th>18</th>\n",
              "      <td>5</td>\n",
              "      <td>8</td>\n",
              "      <td>High</td>\n",
              "      <td>11</td>\n",
              "      <td>587.500000</td>\n",
              "      <td>m1.large</td>\n",
              "      <td>1</td>\n",
              "      <td>0.001</td>\n",
              "    </tr>\n",
              "    <tr>\n",
              "      <th>19</th>\n",
              "      <td>6</td>\n",
              "      <td>8</td>\n",
              "      <td>High</td>\n",
              "      <td>8</td>\n",
              "      <td>703.800000</td>\n",
              "      <td>m1.large</td>\n",
              "      <td>2</td>\n",
              "      <td>0.002</td>\n",
              "    </tr>\n",
              "    <tr>\n",
              "      <th>20</th>\n",
              "      <td>7</td>\n",
              "      <td>8</td>\n",
              "      <td>High</td>\n",
              "      <td>7</td>\n",
              "      <td>824.000000</td>\n",
              "      <td>m1.large</td>\n",
              "      <td>4</td>\n",
              "      <td>0.004</td>\n",
              "    </tr>\n",
              "    <tr>\n",
              "      <th>21</th>\n",
              "      <td>8</td>\n",
              "      <td>8</td>\n",
              "      <td>High</td>\n",
              "      <td>6</td>\n",
              "      <td>940.000000</td>\n",
              "      <td>m1.large</td>\n",
              "      <td>8</td>\n",
              "      <td>0.008</td>\n",
              "    </tr>\n",
              "    <tr>\n",
              "      <th>22</th>\n",
              "      <td>9</td>\n",
              "      <td>8</td>\n",
              "      <td>High</td>\n",
              "      <td>6</td>\n",
              "      <td>1057.900000</td>\n",
              "      <td>m1.large</td>\n",
              "      <td>16</td>\n",
              "      <td>0.016</td>\n",
              "    </tr>\n",
              "    <tr>\n",
              "      <th>23</th>\n",
              "      <td>10</td>\n",
              "      <td>8</td>\n",
              "      <td>High</td>\n",
              "      <td>5</td>\n",
              "      <td>1175.000000</td>\n",
              "      <td>m1.large</td>\n",
              "      <td>16</td>\n",
              "      <td>0.016</td>\n",
              "    </tr>\n",
              "    <tr>\n",
              "      <th>24</th>\n",
              "      <td>11</td>\n",
              "      <td>8</td>\n",
              "      <td>High</td>\n",
              "      <td>5</td>\n",
              "      <td>1293.500000</td>\n",
              "      <td>m1.large</td>\n",
              "      <td>1</td>\n",
              "      <td>0.001</td>\n",
              "    </tr>\n",
              "    <tr>\n",
              "      <th>25</th>\n",
              "      <td>12</td>\n",
              "      <td>8</td>\n",
              "      <td>High</td>\n",
              "      <td>4</td>\n",
              "      <td>1411.500000</td>\n",
              "      <td>m1.large</td>\n",
              "      <td>2</td>\n",
              "      <td>0.002</td>\n",
              "    </tr>\n",
              "    <tr>\n",
              "      <th>26</th>\n",
              "      <td>13</td>\n",
              "      <td>8</td>\n",
              "      <td>High</td>\n",
              "      <td>3</td>\n",
              "      <td>1528.000000</td>\n",
              "      <td>m1.large</td>\n",
              "      <td>4</td>\n",
              "      <td>0.004</td>\n",
              "    </tr>\n",
              "    <tr>\n",
              "      <th>27</th>\n",
              "      <td>14</td>\n",
              "      <td>8</td>\n",
              "      <td>High</td>\n",
              "      <td>3</td>\n",
              "      <td>1645.100000</td>\n",
              "      <td>m1.large</td>\n",
              "      <td>8</td>\n",
              "      <td>0.008</td>\n",
              "    </tr>\n",
              "    <tr>\n",
              "      <th>28</th>\n",
              "      <td>1</td>\n",
              "      <td>9</td>\n",
              "      <td>High</td>\n",
              "      <td>62</td>\n",
              "      <td>104.609222</td>\n",
              "      <td>m1.large</td>\n",
              "      <td>16</td>\n",
              "      <td>0.016</td>\n",
              "    </tr>\n",
              "    <tr>\n",
              "      <th>29</th>\n",
              "      <td>2</td>\n",
              "      <td>9</td>\n",
              "      <td>High</td>\n",
              "      <td>31</td>\n",
              "      <td>209.148444</td>\n",
              "      <td>m1.large</td>\n",
              "      <td>16</td>\n",
              "      <td>0.016</td>\n",
              "    </tr>\n",
              "    <tr>\n",
              "      <th>30</th>\n",
              "      <td>3</td>\n",
              "      <td>9</td>\n",
              "      <td>High</td>\n",
              "      <td>20</td>\n",
              "      <td>313.687667</td>\n",
              "      <td>m1.large</td>\n",
              "      <td>1</td>\n",
              "      <td>0.001</td>\n",
              "    </tr>\n",
              "    <tr>\n",
              "      <th>31</th>\n",
              "      <td>4</td>\n",
              "      <td>9</td>\n",
              "      <td>High</td>\n",
              "      <td>15</td>\n",
              "      <td>418.226889</td>\n",
              "      <td>m1.large</td>\n",
              "      <td>2</td>\n",
              "      <td>0.002</td>\n",
              "    </tr>\n",
              "    <tr>\n",
              "      <th>32</th>\n",
              "      <td>5</td>\n",
              "      <td>9</td>\n",
              "      <td>High</td>\n",
              "      <td>12</td>\n",
              "      <td>522.766111</td>\n",
              "      <td>m1.large</td>\n",
              "      <td>4</td>\n",
              "      <td>0.004</td>\n",
              "    </tr>\n",
              "    <tr>\n",
              "      <th>33</th>\n",
              "      <td>6</td>\n",
              "      <td>9</td>\n",
              "      <td>High</td>\n",
              "      <td>10</td>\n",
              "      <td>627.305333</td>\n",
              "      <td>m1.large</td>\n",
              "      <td>8</td>\n",
              "      <td>0.008</td>\n",
              "    </tr>\n",
              "    <tr>\n",
              "      <th>34</th>\n",
              "      <td>7</td>\n",
              "      <td>9</td>\n",
              "      <td>High</td>\n",
              "      <td>8</td>\n",
              "      <td>731.844556</td>\n",
              "      <td>m1.large</td>\n",
              "      <td>16</td>\n",
              "      <td>0.016</td>\n",
              "    </tr>\n",
              "    <tr>\n",
              "      <th>35</th>\n",
              "      <td>8</td>\n",
              "      <td>9</td>\n",
              "      <td>High</td>\n",
              "      <td>7</td>\n",
              "      <td>836.383778</td>\n",
              "      <td>m1.large</td>\n",
              "      <td>3</td>\n",
              "      <td>0.003</td>\n",
              "    </tr>\n",
              "    <tr>\n",
              "      <th>36</th>\n",
              "      <td>9</td>\n",
              "      <td>9</td>\n",
              "      <td>High</td>\n",
              "      <td>6</td>\n",
              "      <td>940.923000</td>\n",
              "      <td>m1.large</td>\n",
              "      <td>3</td>\n",
              "      <td>0.003</td>\n",
              "    </tr>\n",
              "    <tr>\n",
              "      <th>37</th>\n",
              "      <td>10</td>\n",
              "      <td>9</td>\n",
              "      <td>High</td>\n",
              "      <td>6</td>\n",
              "      <td>1045.462222</td>\n",
              "      <td>m1.large</td>\n",
              "      <td>3</td>\n",
              "      <td>0.003</td>\n",
              "    </tr>\n",
              "    <tr>\n",
              "      <th>38</th>\n",
              "      <td>11</td>\n",
              "      <td>9</td>\n",
              "      <td>High</td>\n",
              "      <td>5</td>\n",
              "      <td>1150.001444</td>\n",
              "      <td>m1.large</td>\n",
              "      <td>3</td>\n",
              "      <td>0.003</td>\n",
              "    </tr>\n",
              "    <tr>\n",
              "      <th>39</th>\n",
              "      <td>12</td>\n",
              "      <td>9</td>\n",
              "      <td>High</td>\n",
              "      <td>5</td>\n",
              "      <td>1254.540667</td>\n",
              "      <td>m1.large</td>\n",
              "      <td>3</td>\n",
              "      <td>0.003</td>\n",
              "    </tr>\n",
              "    <tr>\n",
              "      <th>40</th>\n",
              "      <td>13</td>\n",
              "      <td>9</td>\n",
              "      <td>High</td>\n",
              "      <td>4</td>\n",
              "      <td>1359.079889</td>\n",
              "      <td>m1.large</td>\n",
              "      <td>3</td>\n",
              "      <td>0.003</td>\n",
              "    </tr>\n",
              "    <tr>\n",
              "      <th>41</th>\n",
              "      <td>14</td>\n",
              "      <td>9</td>\n",
              "      <td>High</td>\n",
              "      <td>4</td>\n",
              "      <td>1463.619111</td>\n",
              "      <td>m1.large</td>\n",
              "      <td>16</td>\n",
              "      <td>0.016</td>\n",
              "    </tr>\n",
              "    <tr>\n",
              "      <th>42</th>\n",
              "      <td>1</td>\n",
              "      <td>12</td>\n",
              "      <td>High</td>\n",
              "      <td>82</td>\n",
              "      <td>78.721417</td>\n",
              "      <td>m1.xlarge</td>\n",
              "      <td>3</td>\n",
              "      <td>0.003</td>\n",
              "    </tr>\n",
              "    <tr>\n",
              "      <th>43</th>\n",
              "      <td>2</td>\n",
              "      <td>12</td>\n",
              "      <td>High</td>\n",
              "      <td>41</td>\n",
              "      <td>157.375833</td>\n",
              "      <td>m1.xlarge</td>\n",
              "      <td>3</td>\n",
              "      <td>0.003</td>\n",
              "    </tr>\n",
              "    <tr>\n",
              "      <th>44</th>\n",
              "      <td>3</td>\n",
              "      <td>12</td>\n",
              "      <td>High</td>\n",
              "      <td>27</td>\n",
              "      <td>236.030250</td>\n",
              "      <td>m1.xlarge</td>\n",
              "      <td>3</td>\n",
              "      <td>0.003</td>\n",
              "    </tr>\n",
              "    <tr>\n",
              "      <th>45</th>\n",
              "      <td>4</td>\n",
              "      <td>12</td>\n",
              "      <td>High</td>\n",
              "      <td>20</td>\n",
              "      <td>314.684667</td>\n",
              "      <td>m1.xlarge</td>\n",
              "      <td>3</td>\n",
              "      <td>0.003</td>\n",
              "    </tr>\n",
              "    <tr>\n",
              "      <th>46</th>\n",
              "      <td>5</td>\n",
              "      <td>12</td>\n",
              "      <td>High</td>\n",
              "      <td>16</td>\n",
              "      <td>393.339083</td>\n",
              "      <td>m1.xlarge</td>\n",
              "      <td>3</td>\n",
              "      <td>0.003</td>\n",
              "    </tr>\n",
              "    <tr>\n",
              "      <th>47</th>\n",
              "      <td>6</td>\n",
              "      <td>12</td>\n",
              "      <td>High</td>\n",
              "      <td>13</td>\n",
              "      <td>471.993500</td>\n",
              "      <td>m1.xlarge</td>\n",
              "      <td>16</td>\n",
              "      <td>0.016</td>\n",
              "    </tr>\n",
              "    <tr>\n",
              "      <th>48</th>\n",
              "      <td>7</td>\n",
              "      <td>12</td>\n",
              "      <td>High</td>\n",
              "      <td>11</td>\n",
              "      <td>550.647917</td>\n",
              "      <td>m1.xlarge</td>\n",
              "      <td>1</td>\n",
              "      <td>0.001</td>\n",
              "    </tr>\n",
              "    <tr>\n",
              "      <th>49</th>\n",
              "      <td>8</td>\n",
              "      <td>12</td>\n",
              "      <td>High</td>\n",
              "      <td>10</td>\n",
              "      <td>629.302333</td>\n",
              "      <td>m1.xlarge</td>\n",
              "      <td>3</td>\n",
              "      <td>0.003</td>\n",
              "    </tr>\n",
              "  </tbody>\n",
              "</table>\n",
              "</div>\n",
              "      <button class=\"colab-df-convert\" onclick=\"convertToInteractive('df-6f68e1de-e407-4007-903f-2d0e860da17d')\"\n",
              "              title=\"Convert this dataframe to an interactive table.\"\n",
              "              style=\"display:none;\">\n",
              "        \n",
              "  <svg xmlns=\"http://www.w3.org/2000/svg\" height=\"24px\"viewBox=\"0 0 24 24\"\n",
              "       width=\"24px\">\n",
              "    <path d=\"M0 0h24v24H0V0z\" fill=\"none\"/>\n",
              "    <path d=\"M18.56 5.44l.94 2.06.94-2.06 2.06-.94-2.06-.94-.94-2.06-.94 2.06-2.06.94zm-11 1L8.5 8.5l.94-2.06 2.06-.94-2.06-.94L8.5 2.5l-.94 2.06-2.06.94zm10 10l.94 2.06.94-2.06 2.06-.94-2.06-.94-.94-2.06-.94 2.06-2.06.94z\"/><path d=\"M17.41 7.96l-1.37-1.37c-.4-.4-.92-.59-1.43-.59-.52 0-1.04.2-1.43.59L10.3 9.45l-7.72 7.72c-.78.78-.78 2.05 0 2.83L4 21.41c.39.39.9.59 1.41.59.51 0 1.02-.2 1.41-.59l7.78-7.78 2.81-2.81c.8-.78.8-2.07 0-2.86zM5.41 20L4 18.59l7.72-7.72 1.47 1.35L5.41 20z\"/>\n",
              "  </svg>\n",
              "      </button>\n",
              "      \n",
              "  <style>\n",
              "    .colab-df-container {\n",
              "      display:flex;\n",
              "      flex-wrap:wrap;\n",
              "      gap: 12px;\n",
              "    }\n",
              "\n",
              "    .colab-df-convert {\n",
              "      background-color: #E8F0FE;\n",
              "      border: none;\n",
              "      border-radius: 50%;\n",
              "      cursor: pointer;\n",
              "      display: none;\n",
              "      fill: #1967D2;\n",
              "      height: 32px;\n",
              "      padding: 0 0 0 0;\n",
              "      width: 32px;\n",
              "    }\n",
              "\n",
              "    .colab-df-convert:hover {\n",
              "      background-color: #E2EBFA;\n",
              "      box-shadow: 0px 1px 2px rgba(60, 64, 67, 0.3), 0px 1px 3px 1px rgba(60, 64, 67, 0.15);\n",
              "      fill: #174EA6;\n",
              "    }\n",
              "\n",
              "    [theme=dark] .colab-df-convert {\n",
              "      background-color: #3B4455;\n",
              "      fill: #D2E3FC;\n",
              "    }\n",
              "\n",
              "    [theme=dark] .colab-df-convert:hover {\n",
              "      background-color: #434B5C;\n",
              "      box-shadow: 0px 1px 3px 1px rgba(0, 0, 0, 0.15);\n",
              "      filter: drop-shadow(0px 1px 2px rgba(0, 0, 0, 0.3));\n",
              "      fill: #FFFFFF;\n",
              "    }\n",
              "  </style>\n",
              "\n",
              "      <script>\n",
              "        const buttonEl =\n",
              "          document.querySelector('#df-6f68e1de-e407-4007-903f-2d0e860da17d button.colab-df-convert');\n",
              "        buttonEl.style.display =\n",
              "          google.colab.kernel.accessAllowed ? 'block' : 'none';\n",
              "\n",
              "        async function convertToInteractive(key) {\n",
              "          const element = document.querySelector('#df-6f68e1de-e407-4007-903f-2d0e860da17d');\n",
              "          const dataTable =\n",
              "            await google.colab.kernel.invokeFunction('convertToInteractive',\n",
              "                                                     [key], {});\n",
              "          if (!dataTable) return;\n",
              "\n",
              "          const docLinkHtml = 'Like what you see? Visit the ' +\n",
              "            '<a target=\"_blank\" href=https://colab.research.google.com/notebooks/data_table.ipynb>data table notebook</a>'\n",
              "            + ' to learn more about interactive tables.';\n",
              "          element.innerHTML = '';\n",
              "          dataTable['output_type'] = 'display_data';\n",
              "          await google.colab.output.renderOutput(dataTable, element);\n",
              "          const docLink = document.createElement('div');\n",
              "          docLink.innerHTML = docLinkHtml;\n",
              "          element.appendChild(docLink);\n",
              "        }\n",
              "      </script>\n",
              "    </div>\n",
              "  </div>\n",
              "  "
            ],
            "text/plain": [
              "    Block_period  ...  Ratio of Number of miners to bandwidth\n",
              "0              1  ...                                   0.001\n",
              "1              2  ...                                   0.002\n",
              "2              3  ...                                   0.004\n",
              "3              4  ...                                   0.008\n",
              "4              5  ...                                   0.016\n",
              "5              6  ...                                   0.016\n",
              "6              7  ...                                   0.003\n",
              "7              8  ...                                   0.003\n",
              "8              9  ...                                   0.003\n",
              "9             10  ...                                   0.003\n",
              "10            11  ...                                   0.003\n",
              "11            12  ...                                   0.003\n",
              "12            13  ...                                   0.003\n",
              "13            14  ...                                   0.002\n",
              "14             1  ...                                   0.003\n",
              "15             2  ...                                   0.003\n",
              "16             3  ...                                   0.003\n",
              "17             4  ...                                   0.003\n",
              "18             5  ...                                   0.001\n",
              "19             6  ...                                   0.002\n",
              "20             7  ...                                   0.004\n",
              "21             8  ...                                   0.008\n",
              "22             9  ...                                   0.016\n",
              "23            10  ...                                   0.016\n",
              "24            11  ...                                   0.001\n",
              "25            12  ...                                   0.002\n",
              "26            13  ...                                   0.004\n",
              "27            14  ...                                   0.008\n",
              "28             1  ...                                   0.016\n",
              "29             2  ...                                   0.016\n",
              "30             3  ...                                   0.001\n",
              "31             4  ...                                   0.002\n",
              "32             5  ...                                   0.004\n",
              "33             6  ...                                   0.008\n",
              "34             7  ...                                   0.016\n",
              "35             8  ...                                   0.003\n",
              "36             9  ...                                   0.003\n",
              "37            10  ...                                   0.003\n",
              "38            11  ...                                   0.003\n",
              "39            12  ...                                   0.003\n",
              "40            13  ...                                   0.003\n",
              "41            14  ...                                   0.016\n",
              "42             1  ...                                   0.003\n",
              "43             2  ...                                   0.003\n",
              "44             3  ...                                   0.003\n",
              "45             4  ...                                   0.003\n",
              "46             5  ...                                   0.003\n",
              "47             6  ...                                   0.016\n",
              "48             7  ...                                   0.001\n",
              "49             8  ...                                   0.003\n",
              "\n",
              "[50 rows x 8 columns]"
            ]
          },
          "metadata": {},
          "execution_count": 5
        }
      ]
    },
    {
      "cell_type": "markdown",
      "source": [
        "## Exploratory Data Analysis (EDA)"
      ],
      "metadata": {
        "id": "_KCddeJ5RXtE"
      }
    },
    {
      "cell_type": "code",
      "source": [
        "df.describe()"
      ],
      "metadata": {
        "colab": {
          "base_uri": "https://localhost:8080/",
          "height": 300
        },
        "id": "uIS8XkNpZKl8",
        "outputId": "b6394d1a-8c89-4a1b-c814-e4dc12cc48e9"
      },
      "execution_count": 6,
      "outputs": [
        {
          "output_type": "execute_result",
          "data": {
            "text/html": [
              "\n",
              "  <div id=\"df-3ca06826-3484-42a7-8b4e-3f163dc856d5\">\n",
              "    <div class=\"colab-df-container\">\n",
              "      <div>\n",
              "<style scoped>\n",
              "    .dataframe tbody tr th:only-of-type {\n",
              "        vertical-align: middle;\n",
              "    }\n",
              "\n",
              "    .dataframe tbody tr th {\n",
              "        vertical-align: top;\n",
              "    }\n",
              "\n",
              "    .dataframe thead th {\n",
              "        text-align: right;\n",
              "    }\n",
              "</style>\n",
              "<table border=\"1\" class=\"dataframe\">\n",
              "  <thead>\n",
              "    <tr style=\"text-align: right;\">\n",
              "      <th></th>\n",
              "      <th>Block_period</th>\n",
              "      <th>Block_size</th>\n",
              "      <th>box_output</th>\n",
              "      <th>Latency</th>\n",
              "      <th>Number_of_peers</th>\n",
              "      <th>Ratio of Number of miners to bandwidth</th>\n",
              "    </tr>\n",
              "  </thead>\n",
              "  <tbody>\n",
              "    <tr>\n",
              "      <th>count</th>\n",
              "      <td>190.000000</td>\n",
              "      <td>190.000000</td>\n",
              "      <td>190.000000</td>\n",
              "      <td>190.000000</td>\n",
              "      <td>190.000000</td>\n",
              "      <td>190.000000</td>\n",
              "    </tr>\n",
              "    <tr>\n",
              "      <th>mean</th>\n",
              "      <td>6.631579</td>\n",
              "      <td>12.226316</td>\n",
              "      <td>46.052632</td>\n",
              "      <td>412.643607</td>\n",
              "      <td>5.710526</td>\n",
              "      <td>0.005711</td>\n",
              "    </tr>\n",
              "    <tr>\n",
              "      <th>std</th>\n",
              "      <td>3.824324</td>\n",
              "      <td>3.342265</td>\n",
              "      <td>62.498824</td>\n",
              "      <td>387.241382</td>\n",
              "      <td>5.235754</td>\n",
              "      <td>0.005236</td>\n",
              "    </tr>\n",
              "    <tr>\n",
              "      <th>min</th>\n",
              "      <td>1.000000</td>\n",
              "      <td>7.000000</td>\n",
              "      <td>3.000000</td>\n",
              "      <td>11.035000</td>\n",
              "      <td>1.000000</td>\n",
              "      <td>0.001000</td>\n",
              "    </tr>\n",
              "    <tr>\n",
              "      <th>25%</th>\n",
              "      <td>4.000000</td>\n",
              "      <td>10.000000</td>\n",
              "      <td>9.250000</td>\n",
              "      <td>104.718917</td>\n",
              "      <td>3.000000</td>\n",
              "      <td>0.003000</td>\n",
              "    </tr>\n",
              "    <tr>\n",
              "      <th>50%</th>\n",
              "      <td>5.000000</td>\n",
              "      <td>13.000000</td>\n",
              "      <td>26.000000</td>\n",
              "      <td>251.401000</td>\n",
              "      <td>3.000000</td>\n",
              "      <td>0.003000</td>\n",
              "    </tr>\n",
              "    <tr>\n",
              "      <th>75%</th>\n",
              "      <td>10.000000</td>\n",
              "      <td>14.000000</td>\n",
              "      <td>62.000000</td>\n",
              "      <td>659.292825</td>\n",
              "      <td>8.000000</td>\n",
              "      <td>0.008000</td>\n",
              "    </tr>\n",
              "    <tr>\n",
              "      <th>max</th>\n",
              "      <td>14.000000</td>\n",
              "      <td>21.000000</td>\n",
              "      <td>589.000000</td>\n",
              "      <td>1645.100000</td>\n",
              "      <td>16.000000</td>\n",
              "      <td>0.016000</td>\n",
              "    </tr>\n",
              "  </tbody>\n",
              "</table>\n",
              "</div>\n",
              "      <button class=\"colab-df-convert\" onclick=\"convertToInteractive('df-3ca06826-3484-42a7-8b4e-3f163dc856d5')\"\n",
              "              title=\"Convert this dataframe to an interactive table.\"\n",
              "              style=\"display:none;\">\n",
              "        \n",
              "  <svg xmlns=\"http://www.w3.org/2000/svg\" height=\"24px\"viewBox=\"0 0 24 24\"\n",
              "       width=\"24px\">\n",
              "    <path d=\"M0 0h24v24H0V0z\" fill=\"none\"/>\n",
              "    <path d=\"M18.56 5.44l.94 2.06.94-2.06 2.06-.94-2.06-.94-.94-2.06-.94 2.06-2.06.94zm-11 1L8.5 8.5l.94-2.06 2.06-.94-2.06-.94L8.5 2.5l-.94 2.06-2.06.94zm10 10l.94 2.06.94-2.06 2.06-.94-2.06-.94-.94-2.06-.94 2.06-2.06.94z\"/><path d=\"M17.41 7.96l-1.37-1.37c-.4-.4-.92-.59-1.43-.59-.52 0-1.04.2-1.43.59L10.3 9.45l-7.72 7.72c-.78.78-.78 2.05 0 2.83L4 21.41c.39.39.9.59 1.41.59.51 0 1.02-.2 1.41-.59l7.78-7.78 2.81-2.81c.8-.78.8-2.07 0-2.86zM5.41 20L4 18.59l7.72-7.72 1.47 1.35L5.41 20z\"/>\n",
              "  </svg>\n",
              "      </button>\n",
              "      \n",
              "  <style>\n",
              "    .colab-df-container {\n",
              "      display:flex;\n",
              "      flex-wrap:wrap;\n",
              "      gap: 12px;\n",
              "    }\n",
              "\n",
              "    .colab-df-convert {\n",
              "      background-color: #E8F0FE;\n",
              "      border: none;\n",
              "      border-radius: 50%;\n",
              "      cursor: pointer;\n",
              "      display: none;\n",
              "      fill: #1967D2;\n",
              "      height: 32px;\n",
              "      padding: 0 0 0 0;\n",
              "      width: 32px;\n",
              "    }\n",
              "\n",
              "    .colab-df-convert:hover {\n",
              "      background-color: #E2EBFA;\n",
              "      box-shadow: 0px 1px 2px rgba(60, 64, 67, 0.3), 0px 1px 3px 1px rgba(60, 64, 67, 0.15);\n",
              "      fill: #174EA6;\n",
              "    }\n",
              "\n",
              "    [theme=dark] .colab-df-convert {\n",
              "      background-color: #3B4455;\n",
              "      fill: #D2E3FC;\n",
              "    }\n",
              "\n",
              "    [theme=dark] .colab-df-convert:hover {\n",
              "      background-color: #434B5C;\n",
              "      box-shadow: 0px 1px 3px 1px rgba(0, 0, 0, 0.15);\n",
              "      filter: drop-shadow(0px 1px 2px rgba(0, 0, 0, 0.3));\n",
              "      fill: #FFFFFF;\n",
              "    }\n",
              "  </style>\n",
              "\n",
              "      <script>\n",
              "        const buttonEl =\n",
              "          document.querySelector('#df-3ca06826-3484-42a7-8b4e-3f163dc856d5 button.colab-df-convert');\n",
              "        buttonEl.style.display =\n",
              "          google.colab.kernel.accessAllowed ? 'block' : 'none';\n",
              "\n",
              "        async function convertToInteractive(key) {\n",
              "          const element = document.querySelector('#df-3ca06826-3484-42a7-8b4e-3f163dc856d5');\n",
              "          const dataTable =\n",
              "            await google.colab.kernel.invokeFunction('convertToInteractive',\n",
              "                                                     [key], {});\n",
              "          if (!dataTable) return;\n",
              "\n",
              "          const docLinkHtml = 'Like what you see? Visit the ' +\n",
              "            '<a target=\"_blank\" href=https://colab.research.google.com/notebooks/data_table.ipynb>data table notebook</a>'\n",
              "            + ' to learn more about interactive tables.';\n",
              "          element.innerHTML = '';\n",
              "          dataTable['output_type'] = 'display_data';\n",
              "          await google.colab.output.renderOutput(dataTable, element);\n",
              "          const docLink = document.createElement('div');\n",
              "          docLink.innerHTML = docLinkHtml;\n",
              "          element.appendChild(docLink);\n",
              "        }\n",
              "      </script>\n",
              "    </div>\n",
              "  </div>\n",
              "  "
            ],
            "text/plain": [
              "       Block_period  ...  Ratio of Number of miners to bandwidth\n",
              "count    190.000000  ...                              190.000000\n",
              "mean       6.631579  ...                                0.005711\n",
              "std        3.824324  ...                                0.005236\n",
              "min        1.000000  ...                                0.001000\n",
              "25%        4.000000  ...                                0.003000\n",
              "50%        5.000000  ...                                0.003000\n",
              "75%       10.000000  ...                                0.008000\n",
              "max       14.000000  ...                                0.016000\n",
              "\n",
              "[8 rows x 6 columns]"
            ]
          },
          "metadata": {},
          "execution_count": 6
        }
      ]
    },
    {
      "cell_type": "code",
      "source": [
        "#sns.pairplot(df, height=3, aspect=1.3)"
      ],
      "metadata": {
        "id": "S9TfswLHRh5L"
      },
      "execution_count": 7,
      "outputs": []
    },
    {
      "cell_type": "code",
      "source": [
        "sns.heatmap(df.corr(), annot=True)"
      ],
      "metadata": {
        "colab": {
          "base_uri": "https://localhost:8080/",
          "height": 478
        },
        "id": "2PevyUGkUDXU",
        "outputId": "64fbd649-d729-46ac-ace1-c1fcbc8a2b0b"
      },
      "execution_count": 8,
      "outputs": [
        {
          "output_type": "execute_result",
          "data": {
            "text/plain": [
              "<matplotlib.axes._subplots.AxesSubplot at 0x7fce1598d050>"
            ]
          },
          "metadata": {},
          "execution_count": 8
        },
        {
          "output_type": "display_data",
          "data": {
            "image/png": "[encoded data removed]",
            "text/plain": [
              "<Figure size 432x288 with 2 Axes>"
            ]
          },
          "metadata": {
            "needs_background": "light"
          }
        }
      ]
    },
    {
      "cell_type": "code",
      "source": [
        "#sns.boxplot(x=\"Intensity\", y=\"box_output\", data=df)\n",
        "ax=sns.boxplot(x=\"Intensity\", y=\"box_output\", data=df, color='grey')\n",
        "ax.grid('both', linestyle='-.')\n",
        "ax.set_ylabel('Throughput (TPS)')\n",
        "ax.set_axisbelow(True)\n",
        "ax.tick_params(axis='both', direction='in')\n",
        "plt.savefig('/content/drive/MyDrive/data/Throughput.eps', format='eps', dpi=1000)"
      ],
      "metadata": {
        "colab": {
          "base_uri": "https://localhost:8080/",
          "height": 459
        },
        "id": "XYxNrC70VkB8",
        "outputId": "e84e05d2-f4c8-4c45-ed26-a0bbded36189"
      },
      "execution_count": 9,
      "outputs": [
        {
          "output_type": "error",
          "ename": "NameError",
          "evalue": "ignored",
          "traceback": [
            "\u001b[0;31m---------------------------------------------------------------------------\u001b[0m",
            "\u001b[0;31mNameError\u001b[0m                                 Traceback (most recent call last)",
            "\u001b[0;32m<ipython-input-9-9728c284f366>\u001b[0m in \u001b[0;36m<module>\u001b[0;34m()\u001b[0m\n\u001b[1;32m      5\u001b[0m \u001b[0max\u001b[0m\u001b[0;34m.\u001b[0m\u001b[0mset_axisbelow\u001b[0m\u001b[0;34m(\u001b[0m\u001b[0;32mTrue\u001b[0m\u001b[0;34m)\u001b[0m\u001b[0;34m\u001b[0m\u001b[0;34m\u001b[0m\u001b[0m\n\u001b[1;32m      6\u001b[0m \u001b[0max\u001b[0m\u001b[0;34m.\u001b[0m\u001b[0mtick_params\u001b[0m\u001b[0;34m(\u001b[0m\u001b[0maxis\u001b[0m\u001b[0;34m=\u001b[0m\u001b[0;34m'both'\u001b[0m\u001b[0;34m,\u001b[0m \u001b[0mdirection\u001b[0m\u001b[0;34m=\u001b[0m\u001b[0;34m'in'\u001b[0m\u001b[0;34m)\u001b[0m\u001b[0;34m\u001b[0m\u001b[0;34m\u001b[0m\u001b[0m\n\u001b[0;32m----> 7\u001b[0;31m \u001b[0mplt\u001b[0m\u001b[0;34m.\u001b[0m\u001b[0msavefig\u001b[0m\u001b[0;34m(\u001b[0m\u001b[0;34m'/content/drive/MyDrive/data/Throughput.eps'\u001b[0m\u001b[0;34m,\u001b[0m \u001b[0mformat\u001b[0m\u001b[0;34m=\u001b[0m\u001b[0;34m'eps'\u001b[0m\u001b[0;34m,\u001b[0m \u001b[0mdpi\u001b[0m\u001b[0;34m=\u001b[0m\u001b[0;36m1000\u001b[0m\u001b[0;34m)\u001b[0m\u001b[0;34m\u001b[0m\u001b[0;34m\u001b[0m\u001b[0m\n\u001b[0m",
            "\u001b[0;31mNameError\u001b[0m: name 'plt' is not defined"
          ]
        },
        {
          "output_type": "display_data",
          "data": {
            "image/png": "[encoded data removed]",
            "text/plain": [
              "<Figure size 432x288 with 1 Axes>"
            ]
          },
          "metadata": {
            "needs_background": "light"
          }
        }
      ]
    },
    {
      "cell_type": "code",
      "source": [
        "#sns.boxplot(x=\"Intensity\", y=\"Latency\", data=df)\n",
        "ax1=sns.boxplot(x=\"Intensity\", y=\"Latency\", data=df, color='grey')\n",
        "ax1.grid('both', linestyle='-.')\n",
        "ax1.set_ylabel('Latency (seconds)')\n",
        "ax1.set_axisbelow(True)\n",
        "ax1.tick_params(axis='both', direction='in')\n",
        "plt.savefig('/content/drive/MyDrive/data/Latency.eps', format='eps', dpi=1000)"
      ],
      "metadata": {
        "id": "UHEpBCU-pouD"
      },
      "execution_count": null,
      "outputs": []
    },
    {
      "cell_type": "markdown",
      "source": [
        "## Data Preprocessing"
      ],
      "metadata": {
        "id": "SUoDrlNgR-LH"
      }
    },
    {
      "cell_type": "code",
      "source": [
        "df.drop('Number_of_peers', axis=1, inplace=True)\n",
        "df_output = df.copy()\n",
        "\n",
        "#drop latency because it's output variable and can not be used as input features for another outputs\n",
        "df_output.drop('Latency', axis=1, inplace=True)\n",
        "\n",
        "#First approach\n",
        "# Make dummies for our categorial variables to make it able to insert to machine learning models\n",
        "df_ouput_dum = pd.get_dummies(df_output, prefix=['Intensity'], columns=['Intensity'])\n",
        "\n",
        "#uncomment next line to show all values\n",
        "# df_ouput_dum"
      ],
      "metadata": {
        "id": "ntDBSGoemyq2"
      },
      "execution_count": null,
      "outputs": []
    },
    {
      "cell_type": "code",
      "source": [
        "#Second approch\n",
        "# We will try to convert the Intensity to ordinal numbers and see the difference in accuracy using pycaret \n",
        "df_ouput_ord = df_output.copy()\n",
        "df_ouput_ord = df_ouput_ord.replace({\"Intensity\":{\"Low\": 23600, \"Medium\": 35788, \"High\":143362 }})\n",
        "df_ouput_ord = df_ouput_ord.replace({\"mac_type\":{\"m1.medium\": 2, \"m1.large\": 4, \"m1.xlarge\":8 }})\n",
        "\n",
        "#uncomment next line to show all values\n",
        "# df_ouput_ord"
      ],
      "metadata": {
        "id": "P9dZn52kqQxj"
      },
      "execution_count": null,
      "outputs": []
    },
    {
      "cell_type": "markdown",
      "source": [
        "## Comparison between different Models"
      ],
      "metadata": {
        "id": "qoSSXm7bPja0"
      }
    },
    {
      "cell_type": "markdown",
      "source": [
        "### setup pycaret"
      ],
      "metadata": {
        "id": "GSoWXeDMJGZ4"
      }
    },
    {
      "cell_type": "code",
      "source": [
        "!pip install pycaret"
      ],
      "metadata": {
        "id": "305qRGc4aKuZ"
      },
      "execution_count": null,
      "outputs": []
    },
    {
      "cell_type": "code",
      "source": [
        "from pycaret.regression import *"
      ],
      "metadata": {
        "id": "4756-TDtmw_P"
      },
      "execution_count": null,
      "outputs": []
    },
    {
      "cell_type": "markdown",
      "source": [
        "### Comparison between predictions of Throughput"
      ],
      "metadata": {
        "id": "BnFNR3iRz_Zh"
      }
    },
    {
      "cell_type": "code",
      "source": [
        "#just make comparison without ratio featuer because it will filtered in selectfrommodel function in next cells\n",
        "df_pycaret = df_ouput_ord.copy()\n",
        "df_pycaret.drop('Ratio of Number of miners to bandwidth', axis=1,inplace = True)\n",
        "exp_reg101 = setup(data = df_pycaret, target = 'box_output', numeric_features = ['Block_period','Block_size','Intensity','mac_type'], session_id=123)"
      ],
      "metadata": {
        "id": "WdBVzOiSmxCz"
      },
      "execution_count": null,
      "outputs": []
    },
    {
      "cell_type": "code",
      "source": [
        "compare_models()"
      ],
      "metadata": {
        "id": "jTM74Tb5aAlu"
      },
      "execution_count": null,
      "outputs": []
    },
    {
      "cell_type": "markdown",
      "source": [
        "**After applying pycaret regression with intensty numeric ordinal and dummies variable we note that max accuracy for dummies approch with is with gradiant boast regressor with R2 = .93 and for numeric ordinal, the best model is extra tree regressor with R2 = .94 so numeric approach is slightly better than dummy variable**"
      ],
      "metadata": {
        "id": "umHIw6RPQFdz"
      }
    },
    {
      "cell_type": "markdown",
      "source": [
        "### Feature selection based on select from model function\n",
        "\n",
        "---\n",
        "\n"
      ],
      "metadata": {
        "id": "DYKafaqw9_Dn"
      }
    },
    {
      "cell_type": "code",
      "source": [
        "#create dummy variables to test if featuer selection will erase them or not\n",
        "dummy_df = df_ouput_ord.copy()\n",
        "# np.random.seed(2)\n",
        "# dummy_df['dummy1'] = np.random.choice([.001,.002,.005,.008,300000,.905,6000,4.5,2.005], size=190)\n",
        "# dummy_df['dummy2'] = np.random.choice([.000001,10,10.5,10.6,.1255,5000,4.5,1.01], size=190)\n",
        "# dummy_df['dummy3'] = np.random.choice([.001,10,1000,.141,.1255,5000,4.5,1.001,2,3,4], size=190)\n",
        "# dummy_df['dummy4'] = np.random.choice([0,1,10,50], size=190)\n",
        "\n",
        "#create catagorial dummy variable\n",
        "# dummy_df['dummy5'] = np.random.choice(['hima','govind','bi'], size=190)\n",
        "# dummy_df = pd.get_dummies(dummy_df, prefix=['dummy5'], columns=['dummy5'])\n",
        "\n",
        "dummy_df.head()"
      ],
      "metadata": {
        "id": "3UxBPZAWPY13"
      },
      "execution_count": null,
      "outputs": []
    },
    {
      "cell_type": "code",
      "source": [
        "#split our data to y that contain our output \"box_output\" and to x that conatin the featuers inputs for our model\n",
        "y_output=dummy_df[\"box_output\"]\n",
        "x_output=dummy_df.copy()\n",
        "x_output.drop(columns = ['box_output'],inplace = True)\n",
        "x_output.head()"
      ],
      "metadata": {
        "id": "GmOLfbpLg4Rh"
      },
      "execution_count": null,
      "outputs": []
    },
    {
      "cell_type": "code",
      "source": [
        "#For regression models\n",
        "from sklearn.feature_selection import SelectFromModel\n",
        "from sklearn.ensemble import ExtraTreesRegressor\n",
        "\n",
        "feature_names = np.array(x_output.columns)\n",
        "selector = SelectFromModel(estimator=ExtraTreesRegressor(random_state=35),threshold=0.04).fit(x_output, y_output)\n",
        "selector.estimator_.feature_importances_ "
      ],
      "metadata": {
        "id": "HQwt0yRv90wZ"
      },
      "execution_count": null,
      "outputs": []
    },
    {
      "cell_type": "code",
      "source": [
        "x_trans = selector.transform(x_output)\n",
        "x_trans.shape"
      ],
      "metadata": {
        "id": "CoNmWmQeM6vR"
      },
      "execution_count": null,
      "outputs": []
    },
    {
      "cell_type": "code",
      "source": [
        "x_trans = pd.DataFrame(x_trans)\n",
        "x_trans.columns = feature_names[selector.get_support()]\n",
        "x_trans.head()"
      ],
      "metadata": {
        "id": "lbZdQL1WQJZM"
      },
      "execution_count": null,
      "outputs": []
    },
    {
      "cell_type": "markdown",
      "source": [
        "## Get Best Random state"
      ],
      "metadata": {
        "id": "X-CL6T-9fjlq"
      }
    },
    {
      "cell_type": "code",
      "source": [
        "#here I made a function that looping over different random states to get the best one that get best accurecy \n",
        "from sklearn.ensemble import ExtraTreesRegressor\n",
        "\n",
        "def reg_out(rand):\n",
        "  for i in range(rand):\n",
        "    print('random state is',i)\n",
        "    X_train_output, X_test_output, y_train_output, y_test_output = train_test_split(x_trans, y_output, test_size = 0.2, random_state = i)\n",
        "    reg = ExtraTreesRegressor(n_estimators=100, random_state=0,bootstrap=False, ccp_alpha=0.0, criterion='mse',\n",
        "                        max_depth=None, max_features='auto', max_leaf_nodes=None,\n",
        "                        max_samples=None, min_impurity_decrease=0.0,\n",
        "                        min_samples_leaf=1,\n",
        "                        min_samples_split=2, min_weight_fraction_leaf=0.0,n_jobs=-1, oob_score=False,\n",
        "                        verbose=0, warm_start=False).fit(X_train_output, y_train_output)\n",
        "\n",
        "    R2_score = reg.score(X_test_output, y_test_output)\n",
        "    print(\"R2 score for this model is\", R2_score)\n",
        "    y_pred_output = reg.predict(X_test_output)\n",
        "    MSE = ((y_pred_output-y_test_output)**2).mean()\n",
        "    RMSE = (((y_pred_output-y_test_output)**2).mean())**.5\n",
        "    print(\"RMSE score for this model is\", RMSE)\n",
        "\n",
        "# reg_out(50)"
      ],
      "metadata": {
        "id": "TsKho5Cv-l58"
      },
      "execution_count": null,
      "outputs": []
    },
    {
      "cell_type": "markdown",
      "source": [
        "## Extra Tree regressor for Throughput prediction"
      ],
      "metadata": {
        "id": "W0EEDBw7M1_7"
      }
    },
    {
      "cell_type": "code",
      "source": [
        "#from above equation we can note that the best random state is 1 to make model learning well and generlize for validation data\n",
        "X_train_output, X_test_output, y_train_output, y_test_output = train_test_split(x_trans, y_output, test_size = 0.2, random_state = 12)\n",
        "reg = ExtraTreesRegressor(n_estimators=100, random_state=0,bootstrap=False, ccp_alpha=0.0, criterion='mse',\n",
        "                    max_depth=None, max_features='auto', max_leaf_nodes=None,\n",
        "                    max_samples=None, min_impurity_decrease=0.0,\n",
        "                    min_samples_leaf=1,\n",
        "                    min_samples_split=2, min_weight_fraction_leaf=0.0,n_jobs=-1, oob_score=False,\n",
        "                    verbose=0, warm_start=False).fit(X_train_output, y_train_output)\n",
        "\n",
        "R2_score = reg.score(X_test_output, y_test_output)\n",
        "print(\"R2 score for this model is\", R2_score)\n",
        "y_pred_output = reg.predict(X_test_output)\n",
        "MSE = ((y_pred_output-y_test_output)**2).mean()\n",
        "RMSE = (((y_pred_output-y_test_output)**2).mean())**.5\n",
        "print(\"RMSE score for this model is\", RMSE)"
      ],
      "metadata": {
        "id": "MgyWKILeLeLm"
      },
      "execution_count": null,
      "outputs": []
    },
    {
      "cell_type": "code",
      "source": [
        "from sklearn.metrics import mean_squared_error\n",
        "sk_mse_out = mean_squared_error(y_test_output, y_pred_output)\n",
        "sk_rmse_out = sk_mse_out**.5\n",
        "print(\"RMSE score for this model is\", sk_rmse_out)"
      ],
      "metadata": {
        "id": "nfKR52myGGLE"
      },
      "execution_count": null,
      "outputs": []
    },
    {
      "cell_type": "markdown",
      "source": [
        "### Hyperparameter tuning for Extra tree model using grid search function "
      ],
      "metadata": {
        "id": "OxGKUJbLO1NH"
      }
    },
    {
      "cell_type": "code",
      "source": [
        "from sklearn.model_selection import GridSearchCV\n",
        "from sklearn.metrics import make_scorer\n",
        "from sklearn.metrics import mean_squared_error\n",
        "#define your own mse and set greater_is_better=False\n",
        "# mse = make_scorer(mean_squared_error,greater_is_better=False)\n",
        "\n",
        "etr = ExtraTreesRegressor().fit(X_train_output, y_train_output)\n",
        "                            \n",
        "param_grid = {\n",
        "    'n_estimators': [100,120],\n",
        "    'criterion': ['mse', 'mae'],\n",
        "    'max_features': ['auto','sqrt','log2'],  \n",
        "    'min_samples_split': [1,2]\n",
        "}\n",
        "\n",
        "gcv = GridSearchCV(etr,param_grid,scoring='neg_root_mean_squared_error',cv=10,n_jobs=-1).fit(X_train_output,y_train_output)\n",
        "\n",
        "print(\"Best: %f using %s\" % (gcv.best_score_, gcv.best_params_))"
      ],
      "metadata": {
        "id": "NilPkG6CGPeJ"
      },
      "execution_count": null,
      "outputs": []
    },
    {
      "cell_type": "markdown",
      "source": [
        "**We can note here that the grid search here don't give help to us because we not able to minmize the rmse using it. Hyperparameter tuning does not give staisfactory results for Throughpur prediction through ExtraTree reression- It is not needed in this scenario**"
      ],
      "metadata": {
        "id": "ZPO0DLttLHt6"
      }
    },
    {
      "cell_type": "markdown",
      "source": [
        "## MAE Visualization"
      ],
      "metadata": {
        "id": "KPLbL4Z3PSwA"
      }
    },
    {
      "cell_type": "code",
      "source": [
        "x_trans.head()"
      ],
      "metadata": {
        "id": "n--c4eGQA-v3"
      },
      "execution_count": null,
      "outputs": []
    },
    {
      "cell_type": "code",
      "source": [
        "from sklearn.ensemble import GradientBoostingRegressor\n",
        "from sklearn.ensemble import ExtraTreesRegressor\n",
        "from sklearn.ensemble import RandomForestRegressor\n",
        "from sklearn.metrics import mean_absolute_error\n",
        "\n",
        "def get_mae(model):\n",
        "  train_size = [.1,.2,.3,.4,.5,.6,.7,.8,.9,1]\n",
        "  mae_list = []\n",
        "\n",
        "  #recreate dataframe from x_trans and y_lat\n",
        "  df_output = x_trans.copy()\n",
        "  df_output['box_output'] = y_output\n",
        "\n",
        "  for size in train_size:\n",
        "    #get random required size from our data\n",
        "    df_output_sampled = df_output.sample(frac=size,random_state=3)\n",
        "\n",
        "    #x\n",
        "    x_output_sample=df_output_sampled.copy()\n",
        "    x_output_sample.drop(columns = ['box_output'],inplace = True)\n",
        "\n",
        "    #y\n",
        "    y_output_sample=df_output_sampled[\"box_output\"]\n",
        "\n",
        "\n",
        "    X_train_output, X_test_output, y_train_output, y_test_output = train_test_split(x_output_sample, y_output_sample, test_size = 0.2, random_state = 2)\n",
        "    reg = model().fit(X_train_output, y_train_output)\n",
        "    y_pred_output = reg.predict(X_test_output)\n",
        "    mae = mean_absolute_error(y_test_output,y_pred_output)\n",
        "    mae_list.append(mae)\n",
        "  return mae_list\n",
        "\n",
        "models = {'Gpr':GradientBoostingRegressor,'et':ExtraTreesRegressor,'rf':RandomForestRegressor}\n",
        "\n",
        "mae_vis = pd.DataFrame()\n",
        "mae_vis['Data size'] = ['10%','20%','30%','40%','50%','60%','70%','80%','90%','100%']\n",
        "\n",
        "for model_key,model_val in models.items():\n",
        "  mae_vis[f'mae_of {model_key}'] = get_mae(model_val)\n",
        "mae_vis"
      ],
      "metadata": {
        "id": "f1ulOFX8PJ2i"
      },
      "execution_count": null,
      "outputs": []
    },
    {
      "cell_type": "code",
      "source": [
        "import matplotlib.pyplot as plt\n",
        "plt.plot(mae_vis['Data size'], mae_vis['mae_of Gpr'], 'ko-',markersize=10, label='MAE of gpr')\n",
        "plt.plot(mae_vis['Data size'], mae_vis['mae_of et'],'^k-',markersize=10, label='MAE of et')\n",
        "plt.plot(mae_vis['Data size'], mae_vis['mae_of rf'],'Pk-',markersize=10, label='MAE of rf')\n",
        "plt.ylabel('MAE')\n",
        "plt.xlabel('Train data size (%)')\n",
        "plt.legend()\n",
        "plt.show()"
      ],
      "metadata": {
        "id": "Tck5qjMUXiiN"
      },
      "execution_count": null,
      "outputs": []
    },
    {
      "cell_type": "markdown",
      "source": [
        "## RMSE Visualization"
      ],
      "metadata": {
        "id": "IqYPeJji5t8I"
      }
    },
    {
      "cell_type": "code",
      "source": [
        "from sklearn.ensemble import GradientBoostingRegressor\n",
        "from sklearn.ensemble import ExtraTreesRegressor\n",
        "from sklearn.ensemble import RandomForestRegressor\n",
        "from sklearn.metrics import mean_absolute_error\n",
        "\n",
        "def RMSE_model(rand,model,X,y):\n",
        "  rmse_list = []\n",
        "  for i in range(rand):\n",
        "    X_train, X_test, y_train, y_test = train_test_split(X, y, test_size = 0.2, random_state = i)\n",
        "    reg = model().fit(X_train, y_train)\n",
        "    y_pred = reg.predict(X_test)\n",
        "    RMSE = (((y_pred-y_test)**2).mean())**.5\n",
        "    rmse_list.append(RMSE)\n",
        "  return rmse_list\n",
        "\n",
        "\n",
        "models = {'Gpr':GradientBoostingRegressor,'et':ExtraTreesRegressor,'rf':RandomForestRegressor}\n",
        "\n",
        "rmse_fe = pd.DataFrame()\n",
        "\n",
        "#for featuered engineerd data\n",
        "for model_key,model_val in models.items():\n",
        "  rmse_fe[f'rmse_of {model_key}'] = RMSE_model(50,model_val,x_trans,y_output)\n",
        "\n",
        "rmse_fe_melted=pd.melt(rmse_fe)\n",
        "rmse_fe_melted['type'] = 'fe'\n",
        "rmse_fe_melted.head()"
      ],
      "metadata": {
        "id": "D2qkvRZj5DlD"
      },
      "execution_count": null,
      "outputs": []
    },
    {
      "cell_type": "code",
      "source": [
        "#for NON featuered engineerd data\n",
        "rmse_nonfe = pd.DataFrame()\n",
        "for model_key,model_val in models.items():\n",
        "  rmse_nonfe[f'rmse_of {model_key}'] = RMSE_model(50,model_val,x_output,y_output)\n",
        "\n",
        "rmse_nonfe_melted=pd.melt(rmse_nonfe)\n",
        "rmse_nonfe_melted['type'] = 'nonfe'\n",
        "# rmse_nonfe_melted"
      ],
      "metadata": {
        "id": "m1exWunoqOKw"
      },
      "execution_count": null,
      "outputs": []
    },
    {
      "cell_type": "code",
      "source": [
        "rmse_all = pd.concat([rmse_fe_melted,rmse_nonfe_melted])\n",
        "rmse_all"
      ],
      "metadata": {
        "id": "Q0tbQrD0r0HE"
      },
      "execution_count": null,
      "outputs": []
    },
    {
      "cell_type": "code",
      "source": [
        "import matplotlib.pyplot as plt\n",
        "import seaborn as sns\n",
        "ax = sns.boxplot(x=\"variable\", y=\"value\", hue=\"type\",\n",
        "                 data=rmse_all, palette=\"Set3\")\n",
        "plt.legend(loc='upper left')\n",
        "plt.ylabel('RMSE Range')\n",
        "plt.xlabel('Model')\n",
        "plt.show()"
      ],
      "metadata": {
        "id": "CNKjIYhiqon3"
      },
      "execution_count": null,
      "outputs": []
    },
    {
      "cell_type": "markdown",
      "source": [
        "# Latency Prediction \n"
      ],
      "metadata": {
        "id": "DDhyCOKXPkBy"
      }
    },
    {
      "cell_type": "markdown",
      "source": [
        "## Data preprocessing"
      ],
      "metadata": {
        "id": "x42qTkyp8F6E"
      }
    },
    {
      "cell_type": "code",
      "source": [
        "df_latency = df.copy()\n",
        "\n",
        "#drop box_output because it is output variable and cannot be used as input features for another outputs\n",
        "df_latency.drop('box_output', axis=1, inplace=True)\n",
        "\n",
        "#First approch\n",
        "# Make dummies for our catagorial variables to make it able to insert to machine learning models\n",
        "df_laten_dum = pd.get_dummies(df_latency, prefix=['Intensity'], columns=['Intensity'])\n",
        "#uncomment next line to show all values\n",
        "# df_laten_dum"
      ],
      "metadata": {
        "id": "Tn0AsOsk74kh"
      },
      "execution_count": null,
      "outputs": []
    },
    {
      "cell_type": "code",
      "source": [
        "#Secound approch\n",
        "#for numircal ordinal variable approche\n",
        "df_laten_ord = df_latency.copy()\n",
        "df_laten_ord = df_laten_ord.replace({\"Intensity\":{\"Low\": 23600, \"Medium\": 35788, \"High\":143362 }})\n",
        "df_laten_ord = df_laten_ord.replace({\"mac_type\":{\"m1.medium\": 2, \"m1.large\": 4, \"m1.xlarge\":8 }})\n",
        "\n",
        "#uncomment one of next line to show it's values\n",
        "# df_laten_ord"
      ],
      "metadata": {
        "id": "tqQSM6oxPjiU"
      },
      "execution_count": null,
      "outputs": []
    },
    {
      "cell_type": "markdown",
      "source": [
        "## Comparison between different models in pycaret"
      ],
      "metadata": {
        "id": "LpP-pyEk8A8t"
      }
    },
    {
      "cell_type": "code",
      "source": [
        "#just make comparison without ratio featuer because it will filtered in selectfrommodel function in next cells\n",
        "df_pycaret = df_ouput_ord.copy()\n",
        "df_pycaret.drop('Ratio of Number of miners to bandwidth', axis=1,inplace = True)\n",
        "exp_reg101 = setup(data = df_laten_ord, target = 'Latency', numeric_features = ['Block_period','Block_size','Intensity','mac_type'], session_id=123)"
      ],
      "metadata": {
        "id": "DfVUUKQHPPkb"
      },
      "execution_count": null,
      "outputs": []
    },
    {
      "cell_type": "code",
      "source": [
        "compare_models()"
      ],
      "metadata": {
        "id": "gpqCV7CFQzA0"
      },
      "execution_count": null,
      "outputs": []
    },
    {
      "cell_type": "markdown",
      "source": [
        "## Feature selection based on 'select from model' function for Latency\n"
      ],
      "metadata": {
        "id": "IC3mwNfXDQBp"
      }
    },
    {
      "cell_type": "code",
      "source": [
        "#create dummy variables to test if featuer selection will erase them or not\n",
        "dummy_lat_df = df_laten_ord.copy()\n",
        "# np.random.seed(2)\n",
        "# dummy_lat_df['dummy1'] = np.random.choice([.001,.002,.005,.008,300000,.905,6000,4.5,2.005], size=190)\n",
        "# dummy_lat_df['dummy2'] = np.random.choice([.000001,10,10.5,10.6,.1255,5000,4.5,1.01], size=190)\n",
        "# dummy_lat_df['dummy3'] = np.random.choice([.001,10,1000,.141,.1255,5000,4.5,1.001,2,3,4], size=190)\n",
        "# dummy_lat_df['dummy4'] = np.random.choice([0,1,10,50], size=190)\n",
        "\n",
        "# #cretae catagorial dunny variable\n",
        "# dummy_lat_df['dummy5'] = np.random.choice(['hima','ahmed','hagras'], size=190)\n",
        "# dummy_lat_df = pd.get_dummies(dummy_lat_df, prefix=['dummy5'], columns=['dummy5'])\n",
        "dummy_lat_df.head()"
      ],
      "metadata": {
        "id": "0RiwT0a5AiyG"
      },
      "execution_count": null,
      "outputs": []
    },
    {
      "cell_type": "code",
      "source": [
        "#split our data to y that contain our output \"Latency\" and to x that conatin the featuers inputs for our model\n",
        "y_lat=dummy_lat_df[\"Latency\"]\n",
        "x_lat=dummy_lat_df.copy()\n",
        "x_lat.drop(columns = ['Latency'],inplace = True)\n",
        "# x_lat.head()\n",
        "\n",
        "#split x,y to train and test to measure the accurcy of the model\n",
        "X_train_lat, X_test_lat, y_train_lat, y_test_lat = train_test_split(x_lat, y_lat, test_size = .2, random_state = 43)"
      ],
      "metadata": {
        "id": "glqZhXxzU_qU"
      },
      "execution_count": null,
      "outputs": []
    },
    {
      "cell_type": "code",
      "source": [
        "#As featuer engineering we will use the featuers got from pervious featuer engineer in output prdiction\n",
        "x_trans.head()"
      ],
      "metadata": {
        "id": "nvobiUcHCG7a"
      },
      "execution_count": null,
      "outputs": []
    },
    {
      "cell_type": "markdown",
      "source": [
        "## Extra Tree Regressor for Latency"
      ],
      "metadata": {
        "id": "m_-TgKxGGtPz"
      }
    },
    {
      "cell_type": "code",
      "source": [
        "#here I made a function that looping over different random states to get the best one that get best accurecy \n",
        "from sklearn.ensemble import ExtraTreesRegressor\n",
        "\n",
        "def reg_out(rand):\n",
        "  for i in range(rand):\n",
        "    print('random state is',i)\n",
        "    X_train_lat, X_test_lat, y_train_lat, y_test_lat = train_test_split(x_trans, y_lat, test_size = .2, random_state = i)\n",
        "    reg = ExtraTreesRegressor(n_estimators=100, random_state=0,bootstrap=False, ccp_alpha=0.0, criterion='mse',\n",
        "                        max_depth=None, max_features='auto', max_leaf_nodes=None,\n",
        "                        max_samples=None, min_impurity_decrease=0.0,\n",
        "                        min_samples_leaf=1,\n",
        "                        min_samples_split=2, min_weight_fraction_leaf=0.0,n_jobs=-1, oob_score=False,\n",
        "                        verbose=0, warm_start=False).fit(X_train_lat, y_train_lat)\n",
        "\n",
        "    R2_score = reg.score(X_test_lat, y_test_lat)\n",
        "    print(\"R2 score for this model is\", R2_score)\n",
        "    y_pred_lat = reg.predict(X_test_lat)\n",
        "    MSE = ((y_pred_lat-y_test_lat)**2).mean()\n",
        "    RMSE = (((y_pred_lat-y_test_lat)**2).mean())**.5\n",
        "    print(\"RMSE score for this model is\", RMSE)\n",
        "\n",
        "# reg_out(50)"
      ],
      "metadata": {
        "id": "Xy4QzxERCG7b"
      },
      "execution_count": null,
      "outputs": []
    },
    {
      "cell_type": "code",
      "source": [
        "from sklearn.ensemble import ExtraTreesRegressor\n",
        "\n",
        "X_train_lat, X_test_lat, y_train_lat, y_test_lat = train_test_split(x_trans, y_lat, test_size = .2, random_state = 1)\n",
        "reg_lat = ExtraTreesRegressor(n_estimators=100, random_state=0, bootstrap=False, ccp_alpha=0.0, criterion='mse',\n",
        "                    max_depth=None, max_features='auto', max_leaf_nodes=None,\n",
        "                    max_samples=None, min_impurity_decrease=0.0,\n",
        "                    min_impurity_split=None, min_samples_leaf=1,\n",
        "                    min_samples_split=2, min_weight_fraction_leaf=0.0,\n",
        "                    n_jobs=-1, oob_score=False,\n",
        "                    verbose=0, warm_start=False).fit(X_train_lat, y_train_lat)\n",
        "# reg.score(X_test_lat, y_test_lat)\n",
        "\n",
        "R2_score = reg_lat.score(X_test_lat, y_test_lat)\n",
        "print(\"R2 score for this model is\", R2_score)\n",
        "y_pred_lat = reg_lat.predict(X_test_lat)\n",
        "MSE = ((y_pred_lat-y_test_lat)**2).mean()\n",
        "RMSE = (((y_pred_lat-y_test_lat)**2).mean())**.5\n",
        "print(\"RMSE score for this model is\", RMSE)\n"
      ],
      "metadata": {
        "id": "mqF1P4Vo3p8f"
      },
      "execution_count": null,
      "outputs": []
    },
    {
      "cell_type": "code",
      "source": [
        "# RMSE for validation data\n",
        "from sklearn.metrics import mean_squared_error\n",
        "sk_mse = mean_squared_error(y_test_lat, y_pred_lat)\n",
        "sk_rmse = sk_mse**.5\n",
        "print(\"RMSE score for this model is\", sk_rmse)"
      ],
      "metadata": {
        "id": "pNId8zgaFKBZ"
      },
      "execution_count": null,
      "outputs": []
    },
    {
      "cell_type": "markdown",
      "source": [
        "## Hyperparameter tuning for Latency prediction"
      ],
      "metadata": {
        "id": "C3ovvU9tN_KO"
      }
    },
    {
      "cell_type": "code",
      "source": [
        "from sklearn.model_selection import GridSearchCV\n",
        "from sklearn.metrics import make_scorer\n",
        "from sklearn.metrics import mean_squared_error\n",
        "\n",
        "etr_lat = ExtraTreesRegressor(n_estimators=100,random_state=0, bootstrap=False, ccp_alpha=0.0, criterion='mse',\n",
        "                    max_depth=None, max_features='auto', max_leaf_nodes=None,\n",
        "                    max_samples=None, min_impurity_decrease=0.0,\n",
        "                    min_impurity_split=None, min_samples_leaf=1,\n",
        "                    min_samples_split=2, min_weight_fraction_leaf=0.0,\n",
        "                    n_jobs=-1, oob_score=False,\n",
        "                    verbose=0, warm_start=False).fit(X_train_lat, y_train_lat)\n",
        "\n",
        "                            \n",
        "param_grid = {\n",
        "    'n_estimators': [50,100],\n",
        "    'max_depth': [50,60,80,None],\n",
        "    'max_features': ['auto','sqrt','log2'],    \n",
        "}\n",
        "\n",
        "gcv = GridSearchCV(etr_lat,param_grid,scoring='neg_root_mean_squared_error',cv=10,n_jobs=-1).fit(X_train_lat,y_train_lat)\n",
        "\n",
        "print(\"Best: %f using %s\" % (gcv.best_score_, gcv.best_params_))"
      ],
      "metadata": {
        "id": "IT6JoVKB5i-F"
      },
      "execution_count": null,
      "outputs": []
    },
    {
      "cell_type": "markdown",
      "source": [
        "## MAE Visualization For Latency"
      ],
      "metadata": {
        "id": "Jlg1Gjj3faA5"
      }
    },
    {
      "cell_type": "code",
      "source": [
        "from sklearn.ensemble import GradientBoostingRegressor\n",
        "from sklearn.ensemble import ExtraTreesRegressor\n",
        "from sklearn.ensemble import RandomForestRegressor\n",
        "from sklearn.metrics import mean_absolute_error\n",
        "\n",
        "def get_mae(model_val):\n",
        "  train_size = [.1,.2,.3,.4,.5,.6,.7,.8,.9,1]\n",
        "  mae_list = []\n",
        "\n",
        "  #recreate dataframe from x_trans and y_lat\n",
        "  df_lat = x_trans.copy()\n",
        "  df_lat['Latency'] = y_lat\n",
        "\n",
        "  for size in train_size:\n",
        "    #get random required size from our data\n",
        "    df_lat_sampled = df_lat.sample(frac=size,random_state=7)\n",
        "\n",
        "    #x\n",
        "    x_lat_sample=df_lat_sampled.copy()\n",
        "    x_lat_sample.drop(columns = ['Latency'],inplace = True)\n",
        "\n",
        "    #y\n",
        "    y_lat_sample=df_lat_sampled[\"Latency\"]\n",
        "\n",
        "\n",
        "    X_train_lat, X_test_lat, y_train_lat, y_test_lat = train_test_split(x_lat_sample, y_lat_sample, test_size = 0.2, random_state = 44)\n",
        "    reg = model_val().fit(X_train_lat, y_train_lat)\n",
        "    y_pred_lat = reg.predict(X_test_lat)\n",
        "    mae = mean_absolute_error(y_test_lat,y_pred_lat)\n",
        "    mae_list.append(mae)\n",
        "  return mae_list\n",
        "\n",
        "models = {'Gpr':GradientBoostingRegressor,'et':ExtraTreesRegressor,'rf':RandomForestRegressor}\n",
        "\n",
        "mae_vis_lat = pd.DataFrame()\n",
        "mae_vis_lat['Data size'] = ['10%','20%','30%','40%','50%','60%','70%','80%','90%','100%']\n",
        "# mae_vis = mae_vis.set_index('Data size')\n",
        "\n",
        "for model_key,model_val in models.items():\n",
        "  mae_vis_lat[f'mae_of {model_key}'] = get_mae(model_val)\n",
        "mae_vis_lat"
      ],
      "metadata": {
        "id": "hBM5MWUsfaA6"
      },
      "execution_count": null,
      "outputs": []
    },
    {
      "cell_type": "code",
      "source": [
        "import matplotlib.pyplot as plt\n",
        "plt.plot(mae_vis_lat['Data size'], mae_vis_lat['mae_of Gpr'], 'ko-',markersize=10, label='MAE of gpr')\n",
        "plt.plot(mae_vis_lat['Data size'], mae_vis_lat['mae_of et'],'^k-',markersize=10, label='MAE of et')\n",
        "plt.plot(mae_vis_lat['Data size'], mae_vis_lat['mae_of rf'],'Pk-',markersize=10, label='MAE of rf')\n",
        "plt.ylabel('MAE')\n",
        "plt.xlabel('Train data size (%)')\n",
        "plt.legend()\n",
        "plt.show()"
      ],
      "metadata": {
        "id": "xujD-AV-faA6"
      },
      "execution_count": null,
      "outputs": []
    },
    {
      "cell_type": "markdown",
      "source": [
        "## RMSE Visualization For Latency"
      ],
      "metadata": {
        "id": "F-Xu1m-djUMS"
      }
    },
    {
      "cell_type": "code",
      "source": [
        "from sklearn.ensemble import GradientBoostingRegressor\n",
        "from sklearn.ensemble import ExtraTreesRegressor\n",
        "from sklearn.ensemble import RandomForestRegressor\n",
        "from sklearn.metrics import mean_absolute_error\n",
        "\n",
        "def RMSE_model(rand,model,X,y):\n",
        "  rmse_list = []\n",
        "  for i in range(rand):\n",
        "    X_train, X_test, y_train, y_test = train_test_split(X, y, test_size = 0.2, random_state = i)\n",
        "    reg = model().fit(X_train, y_train)\n",
        "    y_pred = reg.predict(X_test)\n",
        "    RMSE = (((y_pred-y_test)**2).mean())**.5\n",
        "    rmse_list.append(RMSE)\n",
        "  return rmse_list\n",
        "\n",
        "\n",
        "models = {'Gpr':GradientBoostingRegressor,'et':ExtraTreesRegressor,'rf':RandomForestRegressor}\n",
        "\n",
        "rmse_lat_fe = pd.DataFrame()\n",
        "\n",
        "#for featuered engineerd data\n",
        "for model_key,model_val in models.items():\n",
        "  rmse_lat_fe[f'rmse_of {model_key}'] = RMSE_model(50,model_val,x_trans,y_lat)\n",
        "\n",
        "rmse_lat_fe_melted=pd.melt(rmse_lat_fe)\n",
        "rmse_lat_fe_melted['type'] = 'fe'\n",
        "rmse_lat_fe_melted.head()"
      ],
      "metadata": {
        "id": "wkBHn-OsjUMT"
      },
      "execution_count": null,
      "outputs": []
    },
    {
      "cell_type": "code",
      "source": [
        "#for NON featuered engineerd data\n",
        "rmse_lat_nonfe = pd.DataFrame()\n",
        "for model_key,model_val in models.items():\n",
        "  rmse_lat_nonfe[f'rmse_of {model_key}'] = RMSE_model(50,model_val,x_lat,y_lat)\n",
        "\n",
        "rmse_lat_nonfe_melted=pd.melt(rmse_lat_nonfe)\n",
        "rmse_lat_nonfe_melted['type'] = 'nonfe'\n",
        "# rmse_lat_nonfe_melted"
      ],
      "metadata": {
        "id": "5y5ntvijjUMT"
      },
      "execution_count": null,
      "outputs": []
    },
    {
      "cell_type": "code",
      "source": [
        "rmse_all_lat = pd.concat([rmse_lat_fe_melted,rmse_lat_nonfe_melted])\n",
        "# rmse_all_lat"
      ],
      "metadata": {
        "id": "thNb5tD4jUMU"
      },
      "execution_count": null,
      "outputs": []
    },
    {
      "cell_type": "code",
      "source": [
        "import matplotlib.pyplot as plt\n",
        "import seaborn as sns\n",
        "ax = sns.boxplot(x=\"variable\", y=\"value\", hue=\"type\",\n",
        "                 data=rmse_all_lat, palette=\"Set3\")\n",
        "\n",
        "plt.ylabel('RMSE Range')\n",
        "plt.xlabel('Model')\n",
        "plt.show()"
      ],
      "metadata": {
        "id": "E01GCs4OjUMU"
      },
      "execution_count": null,
      "outputs": []
    },
    {
      "cell_type": "code",
      "source": [
        ""
      ],
      "metadata": {
        "id": "V7OWRqvnlWOW"
      },
      "execution_count": null,
      "outputs": []
    }
  ]
}